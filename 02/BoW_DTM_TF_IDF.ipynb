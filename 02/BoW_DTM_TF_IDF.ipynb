{
  "nbformat": 4,
  "nbformat_minor": 0,
  "metadata": {
    "colab": {
      "provenance": [],
      "authorship_tag": "ABX9TyMaM8PtTyo8csmInG2wTRKs",
      "include_colab_link": true
    },
    "kernelspec": {
      "name": "python3",
      "display_name": "Python 3"
    },
    "language_info": {
      "name": "python"
    }
  },
  "cells": [
    {
      "cell_type": "markdown",
      "metadata": {
        "id": "view-in-github",
        "colab_type": "text"
      },
      "source": [
        "<a href=\"https://colab.research.google.com/github/dellaanima/NLP_GoingDeeper/blob/main/02/BoW_DTM_TF_IDF.ipynb\" target=\"_parent\"><img src=\"https://colab.research.google.com/assets/colab-badge.svg\" alt=\"Open In Colab\"/></a>"
      ]
    },
    {
      "cell_type": "markdown",
      "source": [
        "# Bag of Words & DTM (Document Term Matrix)"
      ],
      "metadata": {
        "id": "A2AVos5tGvKY"
      }
    },
    {
      "cell_type": "markdown",
      "source": [
        "- About \"BoW\" Sum Up\n",
        "  - 각 단어가 문서에 나타나는 빈도를 카운팅해서 벡터로 표현!\n",
        "  - 당연히, 이 방식으로 벡터화 하면 어순에 따라 달라지는 의미 반영 못하지 ( I ate lunch. = Lunch ate I)\n"
      ],
      "metadata": {
        "id": "ypm8p46NQpC1"
      }
    },
    {
      "cell_type": "markdown",
      "source": [
        "**Keras Tokenzier 활용**"
      ],
      "metadata": {
        "id": "FQPvLgvoDkBh"
      }
    },
    {
      "cell_type": "code",
      "execution_count": null,
      "metadata": {
        "colab": {
          "base_uri": "https://localhost:8080/"
        },
        "id": "Si0qmouhGuNF",
        "outputId": "d45a22ad-ad2c-42df-b6df-e4bbdd6f7bd7"
      },
      "outputs": [
        {
          "output_type": "stream",
          "name": "stdout",
          "text": [
            "Bag of Words : {'john': 1, 'likes': 3, 'to': 2, 'watch': 2, 'movies': 2, 'mary': 2, 'too': 1, 'also': 1, 'football': 1, 'games': 1}\n",
            "단어장(Vocabulary)의 크기 : 10\n"
          ]
        }
      ],
      "source": [
        "# Keras Tokenizer 로 구현\n",
        "from tensorflow.keras.preprocessing.text import Tokenizer\n",
        "\n",
        "sentence = [\"John likes to watch movies. Mary likes movies too! Mary also likes to watch football games.\"]\n",
        "\n",
        "tokenizer = Tokenizer()\n",
        "tokenizer.fit_on_texts(sentence) # 단어장 생성\n",
        "bow = dict(tokenizer.word_counts) # 각 단어와 각 단어의 빈도를 bow에 저장\n",
        "\n",
        "print(\"Bag of Words :\", bow) # bow 출력\n",
        "print('단어장(Vocabulary)의 크기 :', len(tokenizer.word_counts)) # 중복을 제거한 단어들의 개수"
      ]
    },
    {
      "cell_type": "markdown",
      "source": [
        "- 단어장(Vocabulary) : 단어장이란 중복을 제거한 단어들의 집합"
      ],
      "metadata": {
        "id": "cuYFreHJHMiV"
      }
    },
    {
      "cell_type": "markdown",
      "source": [
        "- CountVectorizer는 scikit-learn 라이브러리에서 제공하는 클래스로, 텍스트 데이터를 수치적인 피처 벡터로 변환하기 위해 사용"
      ],
      "metadata": {
        "id": "h4MgyuJfSIZQ"
      }
    },
    {
      "cell_type": "markdown",
      "source": [
        "\n",
        "\n",
        "- Bag of words를 사용하여 문서 간 유사도를 비교하기 위한 행렬을 만들면, 이를 DTM(문서 단어 행렬, Document-Term Matrix)"
      ],
      "metadata": {
        "id": "f48zk0pT85M0"
      }
    },
    {
      "cell_type": "markdown",
      "source": [
        "**scikit-learn CountVectorizer 활용**"
      ],
      "metadata": {
        "id": "cCr-Al13DqXX"
      }
    },
    {
      "cell_type": "markdown",
      "source": [
        "- CountVectorizer Class 의 vector.fit_transform(sentence) 함수\n",
        " - 주어진 Text Data 를 feature vector 로 변환하는 과정을 수행\n",
        " - 반환 값 : 문서-단어 매트릭스(Document-Term Matrix, DTM)\n",
        "\n",
        " - 작동 방식\n",
        "    - 먼저, CountVectorizer 인스턴스를 생성한 후, fit_transform() 함수를 사용하여 입력된 텍스트 데이터를 처리합니다. 이 함수는 다음과 같은 단계로 작동합니다:\n",
        "\n",
        "     Fit: CountVectorizer는 입력 데이터를 분석하여 각 단어의 빈도를 파악합니다. 이 과정은 입력 데이터에 등장하는 단어의 종류와 빈도수를 학습합니다.\n",
        "\n",
        "     Transform: 학습한 내용을 기반으로 입력 데이터를 피처 벡터로 변환합니다. 각 문서에 대해 단어의 빈도를 카운트하여 피처 벡터를 생성합니다. 이 피처 벡터는 문서의 단어 빈도를 나타내며, 각 단어의 인덱스에 해당하는 위치에 빈도수를 기록합니다.\n",
        "\n",
        "     결과적으로 DTM 반환 : DTM은 문서 수 × 단어 수 크기의 행렬로, 각 문서에 대한 단어의 빈도 정보를 담고 있음.\n"
      ],
      "metadata": {
        "id": "AdMwfc2ADOCO"
      }
    },
    {
      "cell_type": "code",
      "source": [
        "# scikit-learn CountVectorizer 활용\n",
        "from sklearn.feature_extraction.text import CountVectorizer\n",
        "\n",
        "sentences = [\"John likes to watch movies. Mary likes movies too! Mary also likes to watch football games.\", \"John and Mary  will watch the football game tonight.\"]\n",
        "\n",
        "# CountVectorizer 인스턴스 생성\n",
        "vector = CountVectorizer()\n",
        "\n",
        "# sentence 텍스트 데이터를 피처 벡터로 변환\n",
        "print(vector.fit_transform(sentences))\n",
        "print(type(vector.fit_transform(sentences)))\n"
      ],
      "metadata": {
        "colab": {
          "base_uri": "https://localhost:8080/"
        },
        "id": "9-HNJu2tHIHi",
        "outputId": "1a1caec0-bb64-4191-b63e-3b7f5061f60b"
      },
      "execution_count": 4,
      "outputs": [
        {
          "output_type": "stream",
          "name": "stdout",
          "text": [
            "  (0, 5)\t1\n",
            "  (0, 6)\t3\n",
            "  (0, 10)\t2\n",
            "  (0, 13)\t2\n",
            "  (0, 8)\t2\n",
            "  (0, 7)\t2\n",
            "  (0, 12)\t1\n",
            "  (0, 0)\t1\n",
            "  (0, 2)\t1\n",
            "  (0, 4)\t1\n",
            "  (1, 5)\t1\n",
            "  (1, 13)\t1\n",
            "  (1, 7)\t1\n",
            "  (1, 2)\t1\n",
            "  (1, 1)\t1\n",
            "  (1, 14)\t1\n",
            "  (1, 9)\t1\n",
            "  (1, 3)\t1\n",
            "  (1, 11)\t1\n",
            "<class 'scipy.sparse._csr.csr_matrix'>\n"
          ]
        }
      ]
    },
    {
      "cell_type": "markdown",
      "source": [
        "- 위에 출력 결과에서 \"(0, 5)\t1\" 이것은 (문서 인덱스, 단어 인덱스) 위치에 해당하는 원소의 값의 빈도수가 1 임을 의미\n",
        "- 위에는 문서가 2개 있으니까 문서 인덱스는 0,1  \n",
        "\n"
      ],
      "metadata": {
        "id": "xfXil_LTFLSF"
      }
    },
    {
      "cell_type": "markdown",
      "source": [
        "- <class 'scipy.sparse._csr.csr_matrix'>\n",
        " - `scipy.sparse._csr.csr_matrix`는 Compressed Sparse Row Matrix의 약자로, SciPy 라이브러리에서 사용되는 희소 행렬(sparse matrix)의 한 유형입니다.\n",
        " - SciPy란? : SciPy('사이파이'라고 읽음)는 과학기술계산을 위한 Python 라이브러리이다. NumPy, Matplotlib, pandas, SymPy와 연계되어 있다(특히 NumPy와)\n",
        " - `fit_transform` 함수는 텍스트 데이터를 피처 벡터로 변환하는 데 사용되며, 반환된 값은 희소 행렬 형식인 CSR 행렬입니다.\n",
        "\n",
        " - 이 희소 행렬은 대부분의 원소가 0인 경우에 효율적으로 메모리를 관리하기 위한 방식으로 구현되어 있습니다. CSR 행렬은 행 인덱스 배열, 열 인덱스 배열 및 데이터 배열로 구성됩니다. 출력 결과에서 각 줄은 하나의 원소를 나타내며, `(행 인덱스, 열 인덱스) 값`과 해당 위치의 값이 나타나있습니다.\n"
      ],
      "metadata": {
        "id": "d2BwJqGvFtwZ"
      }
    },
    {
      "cell_type": "code",
      "source": [
        "bow = vector.fit_transform(sentences).toarray()\n",
        "\n",
        "print('Bag of Words : \\n',bow) # 코퍼스로부터 각 단어의 빈도수를 기록한다.\n",
        "print('각 단어의 인덱스 :', vector.vocabulary_) # 각 단어의 인덱스가 어떻게 부여되었는지를 보여준다.\n"
      ],
      "metadata": {
        "colab": {
          "base_uri": "https://localhost:8080/"
        },
        "id": "UAKYgA8aG5tN",
        "outputId": "9acd4e7a-b5b0-45b7-e876-35692a149488"
      },
      "execution_count": 7,
      "outputs": [
        {
          "output_type": "stream",
          "name": "stdout",
          "text": [
            "Bag of Words : \n",
            " [[1 0 1 0 1 1 3 2 2 0 2 0 1 2 0]\n",
            " [0 1 1 1 0 1 0 1 0 1 0 1 0 1 1]]\n",
            "각 단어의 인덱스 : {'john': 5, 'likes': 6, 'to': 10, 'watch': 13, 'movies': 8, 'mary': 7, 'too': 12, 'also': 0, 'football': 2, 'games': 4, 'and': 1, 'will': 14, 'the': 9, 'game': 3, 'tonight': 11}\n"
          ]
        }
      ]
    },
    {
      "cell_type": "markdown",
      "source": [
        "- .toarray() 메서드 호출은 CSR 희소 행렬을 밀집 배열로 변환합니다. 이때, 희소 행렬의 모든 원소를 메모리 상에 로드하여 2차원 배열로 변환합니다.\n"
      ],
      "metadata": {
        "id": "GJFEVHk_G-UL"
      }
    },
    {
      "cell_type": "markdown",
      "source": [
        "- 즉, CounterVectorizer의 vector.fit_transform(입력 문장).toarray()으로 출력되는 Bag of Words 결과를 보면 각 단어의 빈도만 출력될 뿐, 어떤 단어의 빈도인지는 나오지 않습니다.\n",
        "- 이는 vector.vocabulary_를 통해서 각 단어에 부여된 인덱스를 확인하면 됩니다.\n"
      ],
      "metadata": {
        "id": "HlZ_u4IeJMJD"
      }
    },
    {
      "cell_type": "code",
      "source": [
        "print('단어장(Vocabulary)의 크기 :', len(vector.vocabulary_))"
      ],
      "metadata": {
        "colab": {
          "base_uri": "https://localhost:8080/"
        },
        "id": "WUtCzCU7JM-o",
        "outputId": "ca3f85eb-1209-4360-a70b-2d9daf8edf7d"
      },
      "execution_count": 8,
      "outputs": [
        {
          "output_type": "stream",
          "name": "stdout",
          "text": [
            "단어장(Vocabulary)의 크기 : 15\n"
          ]
        }
      ]
    },
    {
      "cell_type": "markdown",
      "source": [
        "- 간단하게 말해서, DTM 은 여러 문서의 BoW 를 하나의 행렬로 구현한 것!\n",
        "-  DTM을 사용하면 각 문서들을 비교하고, 각 문서 간 유사도를 구할 수 있게 됩니다."
      ],
      "metadata": {
        "id": "uDljX6q9QR0h"
      }
    },
    {
      "cell_type": "markdown",
      "source": [
        "- 각 문서 벡터의 유사도를 구해보겠습니다.(코사인 유사도)"
      ],
      "metadata": {
        "id": "g6Snyy-ib3ZD"
      }
    },
    {
      "cell_type": "markdown",
      "source": [
        "- 코사인 유사도 (cosθ)\n",
        "  - 코사인 유사도는 두 벡터 간의 코사인 각도를 이용하여 구할 수 있는 두 벡터의 유사도를 의미합니다.\n",
        "  - 두 벡터 간의 유사도를 측정하는 방법 중 하나이며 두 벡터의 방향이 얼마나 유사한지를 나타내는 측정 지표로, 두 벡터가 이루는 각도의 코사인 값으로 계산됩니다.\n",
        "\n",
        "  - 코사인 유사도는 보통 -1과 1 사이의 값으로 나타내며, 두 벡터의 방향이 완전히 동일한 경우 1이 됩니다. 반대로, 두 벡터의 방향이 완전히 반대인 경우 -1이 됩니다. 두 벡터가 서로 독립적인 경우에는 0에 가까운 값이 나타납니다"
      ],
      "metadata": {
        "id": "Su5hQsSqcWoh"
      }
    },
    {
      "cell_type": "code",
      "source": [
        "import numpy as np\n",
        "from numpy import dot\n",
        "from numpy.linalg import norm\n",
        "\n",
        "doc1 = np.array([0,1,1,1]) # 문서1 벡터\n",
        "doc2 = np.array([1,0,1,1]) # 문서2 벡터\n",
        "doc3 = np.array([2,0,2,2]) # 문서3 벡터\n",
        "\n",
        "# 코사인 유사도 : 내적 / 각각의 크기\n",
        "def cos_sim(A, B):\n",
        "    return dot(A, B)/(norm(A)*norm(B))"
      ],
      "metadata": {
        "id": "nlH7AUAuPxV7"
      },
      "execution_count": null,
      "outputs": []
    },
    {
      "cell_type": "markdown",
      "source": [
        "- DTM의 한계점\n",
        "\n",
        "    - DTM 행과 열은 대부분의 값이 0을 가진다는 특징이 있습니다. 이는 저장 공간 측면에서 낭비입니다. (워드 임베딩 챕터에서 배우겠지만, 지나친 차원의 크기는 차원의 저주라는 또 다른 문제를 발생시킵니다.)\n",
        "\n",
        "    - 오직 단어의 빈도에만 집중하는 방법 자체의 한계\n",
        "      \n",
        "      예를 들어, 영어 데이터를 가지고 DTM을 만들었을 때, 불용어 'the'는 어떤 문서에서도 자주 등장하는 경향이 있습니다. 그런데 문서1과 문서2에서 둘 다 'the'가 많이 등장했다고 하여 이 두 문서가 유사한 문서라고 봐도 되는건가?\n",
        "\n",
        "     중요한 단어와 중요하지 않은 단어들이 혼재되어 있는데 문서에서, 'the'와 같이 아무 문서에나 자주 등장하는 단어들은 문서끼리 비교할 때 그다지 도움이 되지 않는다. 그렇다면 중요한 단어와 중요하지 않은 단어에 가중치를 따로 선별해서 주는 방법은 없을까요? --> Term Frequency-Inverse Document Frequency\n"
      ],
      "metadata": {
        "id": "9aJgOzmXHTML"
      }
    },
    {
      "cell_type": "markdown",
      "source": [
        "# TF-IDF (Term Frequency-Inverse Document Frequency)"
      ],
      "metadata": {
        "id": "f69Y5tWGPxzj"
      }
    },
    {
      "cell_type": "markdown",
      "source": [
        "- \"모든 문서에서 자주 등장하는 단어는 중요도가 낮다고 판단!\n",
        "- 특정 문서에서만 자주 등장하는 단어는 중요도가 높다고 판단!\n",
        "\n",
        "- TF-IDF는 불용어처럼 중요도가 낮으면서 모든 문서에 등장하는 단어들이 노이즈가 되는 것을 완화해 줍니다.\n",
        "- 주의할 점은 TF-IDF를 사용하는 것이 DTM을 사용하는 것보다 성능이 항상 뛰어나지는 않다는 점입니다.\n",
        "\n",
        "- TF-IDF를 사용하기 위해서는 우선 DTM을 만든 뒤에 TF-IDF 가중치를 DTM에 적용합니다.\n",
        "\n",
        "- DTM 은 이미 TF (Term Frequency) 행렬, 그러니까 DTM 에다가 IDF Inverse Document Frequency 값을 곱해주면 TF-IDF 가 되는 것!"
      ],
      "metadata": {
        "id": "0l9buhAZJU6_"
      }
    },
    {
      "cell_type": "markdown",
      "source": [
        "- TF-IDF 수식\n",
        "  - 뒤에 log 값이 IDF 를 계산한 방식이겠죠.."
      ],
      "metadata": {
        "id": "EPX5F69fMC04"
      }
    },
    {
      "cell_type": "markdown",
      "source": [
        "![GN-2-L-4.png](data:image/png;base64,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)"
      ],
      "metadata": {
        "id": "QSFJ8D8wIrAH"
      }
    },
    {
      "cell_type": "markdown",
      "source": [
        "- IDF 값 예시로 직접 계산해보기\n",
        "\n",
        "\n",
        "    Question. 전체 문서의 수가 5개라고 해봅시다. 그리고 단어 'like'가 문서2에서 200번, 문서 3에서 300번 등장했다고 해봅시다. 다른 문서에서 단어 'like'는 등장하지 않았습니다. 이때, 단어 'like'의 IDF 및 문서2, 문서3 에서 TF-IDF 는 몇일까요?\n",
        "\n",
        "    N : 5\n",
        "    df(x) : 2\n",
        "    IDF = log(5/2) or ln(5/2)\n",
        "\n",
        "    문서2에서의 TF는 200, 문서3에서의 TF는 300\n",
        "    문서2의 단어 'like'의 TF-IDF를 구하면 200×ln(⁡5/2)​, 즉 183.258146375입니다.\n",
        "    문서3에서의 단어 'like'의 TF-IDF는 300×ln⁡(5/2) 계산하면 274.887219562입니다."
      ],
      "metadata": {
        "id": "BUdm__3QPw6P"
      }
    },
    {
      "cell_type": "markdown",
      "source": [
        "## TF - IDF 직접 구현하기"
      ],
      "metadata": {
        "id": "bDSIlIwGL_5J"
      }
    },
    {
      "cell_type": "code",
      "source": [
        "from math import log\n",
        "import pandas as pd"
      ],
      "metadata": {
        "id": "VNvbbOFJP4cj"
      },
      "execution_count": 1,
      "outputs": []
    },
    {
      "cell_type": "code",
      "source": [
        "docs = [\n",
        "  'John likes to watch movies and Mary likes movies too',\n",
        "  'James likes to watch TV',\n",
        "  'Mary also likes to watch football games',\n",
        "]"
      ],
      "metadata": {
        "id": "cKsEh47uQ-mI"
      },
      "execution_count": 2,
      "outputs": []
    },
    {
      "cell_type": "markdown",
      "source": [
        "- 단어장 생성"
      ],
      "metadata": {
        "id": "YH74pgk5VysV"
      }
    },
    {
      "cell_type": "code",
      "source": [
        "vocab = list(set(w for doc in docs for w in doc.split()))\n",
        "vocab.sort()\n",
        "print('단어장의 크기 :', len(vocab))\n",
        "print(vocab)"
      ],
      "metadata": {
        "colab": {
          "base_uri": "https://localhost:8080/"
        },
        "id": "GxgWFDkKQ_xi",
        "outputId": "5207808f-3bcc-4037-a45c-8e392b44fe5d"
      },
      "execution_count": 3,
      "outputs": [
        {
          "output_type": "stream",
          "name": "stdout",
          "text": [
            "단어장의 크기 : 13\n",
            "['James', 'John', 'Mary', 'TV', 'also', 'and', 'football', 'games', 'likes', 'movies', 'to', 'too', 'watch']\n"
          ]
        }
      ]
    },
    {
      "cell_type": "code",
      "source": [
        "N = len(docs) # 총 문서의 수\n",
        "N"
      ],
      "metadata": {
        "colab": {
          "base_uri": "https://localhost:8080/"
        },
        "id": "_hZbLtISRBJW",
        "outputId": "477a9fbf-a1ea-49fc-988e-67c5155e6111"
      },
      "execution_count": 4,
      "outputs": [
        {
          "output_type": "execute_result",
          "data": {
            "text/plain": [
              "3"
            ]
          },
          "metadata": {},
          "execution_count": 4
        }
      ]
    },
    {
      "cell_type": "markdown",
      "source": [
        "이제 TF 함수, IDF 함수, TF-IDF 함수를 만들겠습니다.\n",
        "\n",
        "여기서 IDF를 실제 구현할 때는 앞서 배운 식과는 다소 다른 식을 사용하게 됩니다. 실제로 많은 파이썬 패키지들이 앞에서 배운 식에서 조금씩 조정된, 서로 다른 식을 사용합니다.\n",
        "\n",
        "우선, 여기서는 log 항의 분모에 1을 더해주겠습니다. 이는 (Bag of Words를 사용할 때 일반적인 상황은 아니지만) 특정 단어가 전체 문서에서 등장하지 않을 경우에 분모가 0이 되는 상황을 방지하기 위함입니다. 그리고 log 항에 1을 더해주겠습니다. 이는 log⁡log 항의 분자와 분모값이 동일해졌을 때, log⁡log의 진수가 1이 됨에 따라서 IDF의 값이 0이 되는 것을 방지하기 위함입니다."
      ],
      "metadata": {
        "id": "skZ5wzsbWAPz"
      }
    },
    {
      "cell_type": "code",
      "source": [
        "def tf(t, d):\n",
        "    return d.count(t)\n",
        "\n",
        "def idf(t):\n",
        "    df = 0\n",
        "    for doc in docs:\n",
        "        df += t in doc\n",
        "    return log(N/(df + 1)) + 1\n",
        "\n",
        "def tfidf(t, d):\n",
        "    return tf(t,d)* idf(t)"
      ],
      "metadata": {
        "id": "5whdQ3vjRECR"
      },
      "execution_count": 10,
      "outputs": []
    },
    {
      "cell_type": "code",
      "source": [
        "result = []\n",
        "for i in range(N): # 각 문서에 대해서 아래 명령을 수행\n",
        "    result.append([])\n",
        "    d = docs[i]\n",
        "    for j in range(len(vocab)):\n",
        "        t = vocab[j]\n",
        "\n",
        "        result[-1].append(tf(t, d))\n",
        "\n",
        "tf_ = pd.DataFrame(result, columns = vocab)\n",
        "tf_"
      ],
      "metadata": {
        "colab": {
          "base_uri": "https://localhost:8080/",
          "height": 143
        },
        "id": "KBCzQnFtXX2b",
        "outputId": "b927819d-ecf7-42e6-891b-3ab16ec236e5"
      },
      "execution_count": 6,
      "outputs": [
        {
          "output_type": "execute_result",
          "data": {
            "text/plain": [
              "   James  John  Mary  TV  also  and  football  games  likes  movies  to  too  \\\n",
              "0      0     1     1   0     0    1         0      0      2       2   2    1   \n",
              "1      1     0     0   1     0    0         0      0      1       0   1    0   \n",
              "2      0     0     1   0     1    0         1      1      1       0   1    0   \n",
              "\n",
              "   watch  \n",
              "0      1  \n",
              "1      1  \n",
              "2      1  "
            ],
            "text/html": [
              "\n",
              "  <div id=\"df-97d96469-e4dc-4cb9-af03-eb8e7c4c5bc6\" class=\"colab-df-container\">\n",
              "    <div>\n",
              "<style scoped>\n",
              "    .dataframe tbody tr th:only-of-type {\n",
              "        vertical-align: middle;\n",
              "    }\n",
              "\n",
              "    .dataframe tbody tr th {\n",
              "        vertical-align: top;\n",
              "    }\n",
              "\n",
              "    .dataframe thead th {\n",
              "        text-align: right;\n",
              "    }\n",
              "</style>\n",
              "<table border=\"1\" class=\"dataframe\">\n",
              "  <thead>\n",
              "    <tr style=\"text-align: right;\">\n",
              "      <th></th>\n",
              "      <th>James</th>\n",
              "      <th>John</th>\n",
              "      <th>Mary</th>\n",
              "      <th>TV</th>\n",
              "      <th>also</th>\n",
              "      <th>and</th>\n",
              "      <th>football</th>\n",
              "      <th>games</th>\n",
              "      <th>likes</th>\n",
              "      <th>movies</th>\n",
              "      <th>to</th>\n",
              "      <th>too</th>\n",
              "      <th>watch</th>\n",
              "    </tr>\n",
              "  </thead>\n",
              "  <tbody>\n",
              "    <tr>\n",
              "      <th>0</th>\n",
              "      <td>0</td>\n",
              "      <td>1</td>\n",
              "      <td>1</td>\n",
              "      <td>0</td>\n",
              "      <td>0</td>\n",
              "      <td>1</td>\n",
              "      <td>0</td>\n",
              "      <td>0</td>\n",
              "      <td>2</td>\n",
              "      <td>2</td>\n",
              "      <td>2</td>\n",
              "      <td>1</td>\n",
              "      <td>1</td>\n",
              "    </tr>\n",
              "    <tr>\n",
              "      <th>1</th>\n",
              "      <td>1</td>\n",
              "      <td>0</td>\n",
              "      <td>0</td>\n",
              "      <td>1</td>\n",
              "      <td>0</td>\n",
              "      <td>0</td>\n",
              "      <td>0</td>\n",
              "      <td>0</td>\n",
              "      <td>1</td>\n",
              "      <td>0</td>\n",
              "      <td>1</td>\n",
              "      <td>0</td>\n",
              "      <td>1</td>\n",
              "    </tr>\n",
              "    <tr>\n",
              "      <th>2</th>\n",
              "      <td>0</td>\n",
              "      <td>0</td>\n",
              "      <td>1</td>\n",
              "      <td>0</td>\n",
              "      <td>1</td>\n",
              "      <td>0</td>\n",
              "      <td>1</td>\n",
              "      <td>1</td>\n",
              "      <td>1</td>\n",
              "      <td>0</td>\n",
              "      <td>1</td>\n",
              "      <td>0</td>\n",
              "      <td>1</td>\n",
              "    </tr>\n",
              "  </tbody>\n",
              "</table>\n",
              "</div>\n",
              "    <div class=\"colab-df-buttons\">\n",
              "\n",
              "  <div class=\"colab-df-container\">\n",
              "    <button class=\"colab-df-convert\" onclick=\"convertToInteractive('df-97d96469-e4dc-4cb9-af03-eb8e7c4c5bc6')\"\n",
              "            title=\"Convert this dataframe to an interactive table.\"\n",
              "            style=\"display:none;\">\n",
              "\n",
              "  <svg xmlns=\"http://www.w3.org/2000/svg\" height=\"24px\" viewBox=\"0 -960 960 960\">\n",
              "    <path d=\"M120-120v-720h720v720H120Zm60-500h600v-160H180v160Zm220 220h160v-160H400v160Zm0 220h160v-160H400v160ZM180-400h160v-160H180v160Zm440 0h160v-160H620v160ZM180-180h160v-160H180v160Zm440 0h160v-160H620v160Z\"/>\n",
              "  </svg>\n",
              "    </button>\n",
              "\n",
              "  <style>\n",
              "    .colab-df-container {\n",
              "      display:flex;\n",
              "      gap: 12px;\n",
              "    }\n",
              "\n",
              "    .colab-df-convert {\n",
              "      background-color: #E8F0FE;\n",
              "      border: none;\n",
              "      border-radius: 50%;\n",
              "      cursor: pointer;\n",
              "      display: none;\n",
              "      fill: #1967D2;\n",
              "      height: 32px;\n",
              "      padding: 0 0 0 0;\n",
              "      width: 32px;\n",
              "    }\n",
              "\n",
              "    .colab-df-convert:hover {\n",
              "      background-color: #E2EBFA;\n",
              "      box-shadow: 0px 1px 2px rgba(60, 64, 67, 0.3), 0px 1px 3px 1px rgba(60, 64, 67, 0.15);\n",
              "      fill: #174EA6;\n",
              "    }\n",
              "\n",
              "    .colab-df-buttons div {\n",
              "      margin-bottom: 4px;\n",
              "    }\n",
              "\n",
              "    [theme=dark] .colab-df-convert {\n",
              "      background-color: #3B4455;\n",
              "      fill: #D2E3FC;\n",
              "    }\n",
              "\n",
              "    [theme=dark] .colab-df-convert:hover {\n",
              "      background-color: #434B5C;\n",
              "      box-shadow: 0px 1px 3px 1px rgba(0, 0, 0, 0.15);\n",
              "      filter: drop-shadow(0px 1px 2px rgba(0, 0, 0, 0.3));\n",
              "      fill: #FFFFFF;\n",
              "    }\n",
              "  </style>\n",
              "\n",
              "    <script>\n",
              "      const buttonEl =\n",
              "        document.querySelector('#df-97d96469-e4dc-4cb9-af03-eb8e7c4c5bc6 button.colab-df-convert');\n",
              "      buttonEl.style.display =\n",
              "        google.colab.kernel.accessAllowed ? 'block' : 'none';\n",
              "\n",
              "      async function convertToInteractive(key) {\n",
              "        const element = document.querySelector('#df-97d96469-e4dc-4cb9-af03-eb8e7c4c5bc6');\n",
              "        const dataTable =\n",
              "          await google.colab.kernel.invokeFunction('convertToInteractive',\n",
              "                                                    [key], {});\n",
              "        if (!dataTable) return;\n",
              "\n",
              "        const docLinkHtml = 'Like what you see? Visit the ' +\n",
              "          '<a target=\"_blank\" href=https://colab.research.google.com/notebooks/data_table.ipynb>data table notebook</a>'\n",
              "          + ' to learn more about interactive tables.';\n",
              "        element.innerHTML = '';\n",
              "        dataTable['output_type'] = 'display_data';\n",
              "        await google.colab.output.renderOutput(dataTable, element);\n",
              "        const docLink = document.createElement('div');\n",
              "        docLink.innerHTML = docLinkHtml;\n",
              "        element.appendChild(docLink);\n",
              "      }\n",
              "    </script>\n",
              "  </div>\n",
              "\n",
              "\n",
              "<div id=\"df-b74a5fa1-0e60-4ea4-b378-a074d32b1eb6\">\n",
              "  <button class=\"colab-df-quickchart\" onclick=\"quickchart('df-b74a5fa1-0e60-4ea4-b378-a074d32b1eb6')\"\n",
              "            title=\"Suggest charts.\"\n",
              "            style=\"display:none;\">\n",
              "\n",
              "<svg xmlns=\"http://www.w3.org/2000/svg\" height=\"24px\"viewBox=\"0 0 24 24\"\n",
              "     width=\"24px\">\n",
              "    <g>\n",
              "        <path d=\"M19 3H5c-1.1 0-2 .9-2 2v14c0 1.1.9 2 2 2h14c1.1 0 2-.9 2-2V5c0-1.1-.9-2-2-2zM9 17H7v-7h2v7zm4 0h-2V7h2v10zm4 0h-2v-4h2v4z\"/>\n",
              "    </g>\n",
              "</svg>\n",
              "  </button>\n",
              "\n",
              "<style>\n",
              "  .colab-df-quickchart {\n",
              "    background-color: #E8F0FE;\n",
              "    border: none;\n",
              "    border-radius: 50%;\n",
              "    cursor: pointer;\n",
              "    display: none;\n",
              "    fill: #1967D2;\n",
              "    height: 32px;\n",
              "    padding: 0 0 0 0;\n",
              "    width: 32px;\n",
              "  }\n",
              "\n",
              "  .colab-df-quickchart:hover {\n",
              "    background-color: #E2EBFA;\n",
              "    box-shadow: 0px 1px 2px rgba(60, 64, 67, 0.3), 0px 1px 3px 1px rgba(60, 64, 67, 0.15);\n",
              "    fill: #174EA6;\n",
              "  }\n",
              "\n",
              "  [theme=dark] .colab-df-quickchart {\n",
              "    background-color: #3B4455;\n",
              "    fill: #D2E3FC;\n",
              "  }\n",
              "\n",
              "  [theme=dark] .colab-df-quickchart:hover {\n",
              "    background-color: #434B5C;\n",
              "    box-shadow: 0px 1px 3px 1px rgba(0, 0, 0, 0.15);\n",
              "    filter: drop-shadow(0px 1px 2px rgba(0, 0, 0, 0.3));\n",
              "    fill: #FFFFFF;\n",
              "  }\n",
              "</style>\n",
              "\n",
              "  <script>\n",
              "    async function quickchart(key) {\n",
              "      const charts = await google.colab.kernel.invokeFunction(\n",
              "          'suggestCharts', [key], {});\n",
              "    }\n",
              "    (() => {\n",
              "      let quickchartButtonEl =\n",
              "        document.querySelector('#df-b74a5fa1-0e60-4ea4-b378-a074d32b1eb6 button');\n",
              "      quickchartButtonEl.style.display =\n",
              "        google.colab.kernel.accessAllowed ? 'block' : 'none';\n",
              "    })();\n",
              "  </script>\n",
              "</div>\n",
              "    </div>\n",
              "  </div>\n"
            ]
          },
          "metadata": {},
          "execution_count": 6
        }
      ]
    },
    {
      "cell_type": "code",
      "source": [
        "result = []\n",
        "for j in range(len(vocab)):\n",
        "    t = vocab[j]\n",
        "    result.append(idf(t))\n",
        "\n",
        "idf_ = pd.DataFrame(result, index = vocab, columns=[\"IDF\"])\n",
        "idf_"
      ],
      "metadata": {
        "colab": {
          "base_uri": "https://localhost:8080/",
          "height": 457
        },
        "id": "qpc69oRnXZ70",
        "outputId": "eb0c29cc-2800-4195-8b6e-03aa9eba6c3d"
      },
      "execution_count": 7,
      "outputs": [
        {
          "output_type": "execute_result",
          "data": {
            "text/plain": [
              "               IDF\n",
              "James     1.405465\n",
              "John      1.405465\n",
              "Mary      1.000000\n",
              "TV        1.405465\n",
              "also      1.405465\n",
              "and       1.405465\n",
              "football  1.405465\n",
              "games     1.405465\n",
              "likes     0.712318\n",
              "movies    1.405465\n",
              "to        0.712318\n",
              "too       1.405465\n",
              "watch     0.712318"
            ],
            "text/html": [
              "\n",
              "  <div id=\"df-1deaf774-d6c3-4e6e-9093-45f409937173\" class=\"colab-df-container\">\n",
              "    <div>\n",
              "<style scoped>\n",
              "    .dataframe tbody tr th:only-of-type {\n",
              "        vertical-align: middle;\n",
              "    }\n",
              "\n",
              "    .dataframe tbody tr th {\n",
              "        vertical-align: top;\n",
              "    }\n",
              "\n",
              "    .dataframe thead th {\n",
              "        text-align: right;\n",
              "    }\n",
              "</style>\n",
              "<table border=\"1\" class=\"dataframe\">\n",
              "  <thead>\n",
              "    <tr style=\"text-align: right;\">\n",
              "      <th></th>\n",
              "      <th>IDF</th>\n",
              "    </tr>\n",
              "  </thead>\n",
              "  <tbody>\n",
              "    <tr>\n",
              "      <th>James</th>\n",
              "      <td>1.405465</td>\n",
              "    </tr>\n",
              "    <tr>\n",
              "      <th>John</th>\n",
              "      <td>1.405465</td>\n",
              "    </tr>\n",
              "    <tr>\n",
              "      <th>Mary</th>\n",
              "      <td>1.000000</td>\n",
              "    </tr>\n",
              "    <tr>\n",
              "      <th>TV</th>\n",
              "      <td>1.405465</td>\n",
              "    </tr>\n",
              "    <tr>\n",
              "      <th>also</th>\n",
              "      <td>1.405465</td>\n",
              "    </tr>\n",
              "    <tr>\n",
              "      <th>and</th>\n",
              "      <td>1.405465</td>\n",
              "    </tr>\n",
              "    <tr>\n",
              "      <th>football</th>\n",
              "      <td>1.405465</td>\n",
              "    </tr>\n",
              "    <tr>\n",
              "      <th>games</th>\n",
              "      <td>1.405465</td>\n",
              "    </tr>\n",
              "    <tr>\n",
              "      <th>likes</th>\n",
              "      <td>0.712318</td>\n",
              "    </tr>\n",
              "    <tr>\n",
              "      <th>movies</th>\n",
              "      <td>1.405465</td>\n",
              "    </tr>\n",
              "    <tr>\n",
              "      <th>to</th>\n",
              "      <td>0.712318</td>\n",
              "    </tr>\n",
              "    <tr>\n",
              "      <th>too</th>\n",
              "      <td>1.405465</td>\n",
              "    </tr>\n",
              "    <tr>\n",
              "      <th>watch</th>\n",
              "      <td>0.712318</td>\n",
              "    </tr>\n",
              "  </tbody>\n",
              "</table>\n",
              "</div>\n",
              "    <div class=\"colab-df-buttons\">\n",
              "\n",
              "  <div class=\"colab-df-container\">\n",
              "    <button class=\"colab-df-convert\" onclick=\"convertToInteractive('df-1deaf774-d6c3-4e6e-9093-45f409937173')\"\n",
              "            title=\"Convert this dataframe to an interactive table.\"\n",
              "            style=\"display:none;\">\n",
              "\n",
              "  <svg xmlns=\"http://www.w3.org/2000/svg\" height=\"24px\" viewBox=\"0 -960 960 960\">\n",
              "    <path d=\"M120-120v-720h720v720H120Zm60-500h600v-160H180v160Zm220 220h160v-160H400v160Zm0 220h160v-160H400v160ZM180-400h160v-160H180v160Zm440 0h160v-160H620v160ZM180-180h160v-160H180v160Zm440 0h160v-160H620v160Z\"/>\n",
              "  </svg>\n",
              "    </button>\n",
              "\n",
              "  <style>\n",
              "    .colab-df-container {\n",
              "      display:flex;\n",
              "      gap: 12px;\n",
              "    }\n",
              "\n",
              "    .colab-df-convert {\n",
              "      background-color: #E8F0FE;\n",
              "      border: none;\n",
              "      border-radius: 50%;\n",
              "      cursor: pointer;\n",
              "      display: none;\n",
              "      fill: #1967D2;\n",
              "      height: 32px;\n",
              "      padding: 0 0 0 0;\n",
              "      width: 32px;\n",
              "    }\n",
              "\n",
              "    .colab-df-convert:hover {\n",
              "      background-color: #E2EBFA;\n",
              "      box-shadow: 0px 1px 2px rgba(60, 64, 67, 0.3), 0px 1px 3px 1px rgba(60, 64, 67, 0.15);\n",
              "      fill: #174EA6;\n",
              "    }\n",
              "\n",
              "    .colab-df-buttons div {\n",
              "      margin-bottom: 4px;\n",
              "    }\n",
              "\n",
              "    [theme=dark] .colab-df-convert {\n",
              "      background-color: #3B4455;\n",
              "      fill: #D2E3FC;\n",
              "    }\n",
              "\n",
              "    [theme=dark] .colab-df-convert:hover {\n",
              "      background-color: #434B5C;\n",
              "      box-shadow: 0px 1px 3px 1px rgba(0, 0, 0, 0.15);\n",
              "      filter: drop-shadow(0px 1px 2px rgba(0, 0, 0, 0.3));\n",
              "      fill: #FFFFFF;\n",
              "    }\n",
              "  </style>\n",
              "\n",
              "    <script>\n",
              "      const buttonEl =\n",
              "        document.querySelector('#df-1deaf774-d6c3-4e6e-9093-45f409937173 button.colab-df-convert');\n",
              "      buttonEl.style.display =\n",
              "        google.colab.kernel.accessAllowed ? 'block' : 'none';\n",
              "\n",
              "      async function convertToInteractive(key) {\n",
              "        const element = document.querySelector('#df-1deaf774-d6c3-4e6e-9093-45f409937173');\n",
              "        const dataTable =\n",
              "          await google.colab.kernel.invokeFunction('convertToInteractive',\n",
              "                                                    [key], {});\n",
              "        if (!dataTable) return;\n",
              "\n",
              "        const docLinkHtml = 'Like what you see? Visit the ' +\n",
              "          '<a target=\"_blank\" href=https://colab.research.google.com/notebooks/data_table.ipynb>data table notebook</a>'\n",
              "          + ' to learn more about interactive tables.';\n",
              "        element.innerHTML = '';\n",
              "        dataTable['output_type'] = 'display_data';\n",
              "        await google.colab.output.renderOutput(dataTable, element);\n",
              "        const docLink = document.createElement('div');\n",
              "        docLink.innerHTML = docLinkHtml;\n",
              "        element.appendChild(docLink);\n",
              "      }\n",
              "    </script>\n",
              "  </div>\n",
              "\n",
              "\n",
              "<div id=\"df-00102d52-b89e-4456-8d68-fb715617d65f\">\n",
              "  <button class=\"colab-df-quickchart\" onclick=\"quickchart('df-00102d52-b89e-4456-8d68-fb715617d65f')\"\n",
              "            title=\"Suggest charts.\"\n",
              "            style=\"display:none;\">\n",
              "\n",
              "<svg xmlns=\"http://www.w3.org/2000/svg\" height=\"24px\"viewBox=\"0 0 24 24\"\n",
              "     width=\"24px\">\n",
              "    <g>\n",
              "        <path d=\"M19 3H5c-1.1 0-2 .9-2 2v14c0 1.1.9 2 2 2h14c1.1 0 2-.9 2-2V5c0-1.1-.9-2-2-2zM9 17H7v-7h2v7zm4 0h-2V7h2v10zm4 0h-2v-4h2v4z\"/>\n",
              "    </g>\n",
              "</svg>\n",
              "  </button>\n",
              "\n",
              "<style>\n",
              "  .colab-df-quickchart {\n",
              "    background-color: #E8F0FE;\n",
              "    border: none;\n",
              "    border-radius: 50%;\n",
              "    cursor: pointer;\n",
              "    display: none;\n",
              "    fill: #1967D2;\n",
              "    height: 32px;\n",
              "    padding: 0 0 0 0;\n",
              "    width: 32px;\n",
              "  }\n",
              "\n",
              "  .colab-df-quickchart:hover {\n",
              "    background-color: #E2EBFA;\n",
              "    box-shadow: 0px 1px 2px rgba(60, 64, 67, 0.3), 0px 1px 3px 1px rgba(60, 64, 67, 0.15);\n",
              "    fill: #174EA6;\n",
              "  }\n",
              "\n",
              "  [theme=dark] .colab-df-quickchart {\n",
              "    background-color: #3B4455;\n",
              "    fill: #D2E3FC;\n",
              "  }\n",
              "\n",
              "  [theme=dark] .colab-df-quickchart:hover {\n",
              "    background-color: #434B5C;\n",
              "    box-shadow: 0px 1px 3px 1px rgba(0, 0, 0, 0.15);\n",
              "    filter: drop-shadow(0px 1px 2px rgba(0, 0, 0, 0.3));\n",
              "    fill: #FFFFFF;\n",
              "  }\n",
              "</style>\n",
              "\n",
              "  <script>\n",
              "    async function quickchart(key) {\n",
              "      const charts = await google.colab.kernel.invokeFunction(\n",
              "          'suggestCharts', [key], {});\n",
              "    }\n",
              "    (() => {\n",
              "      let quickchartButtonEl =\n",
              "        document.querySelector('#df-00102d52-b89e-4456-8d68-fb715617d65f button');\n",
              "      quickchartButtonEl.style.display =\n",
              "        google.colab.kernel.accessAllowed ? 'block' : 'none';\n",
              "    })();\n",
              "  </script>\n",
              "</div>\n",
              "    </div>\n",
              "  </div>\n"
            ]
          },
          "metadata": {},
          "execution_count": 7
        }
      ]
    },
    {
      "cell_type": "code",
      "source": [
        "result = []\n",
        "for i in range(N):\n",
        "    result.append([])\n",
        "    d = docs[i]\n",
        "    for j in range(len(vocab)):\n",
        "        t = vocab[j]\n",
        "\n",
        "        result[-1].append(tfidf(t,d))\n",
        "\n",
        "tfidf_ = pd.DataFrame(result, columns = vocab)\n",
        "tfidf_"
      ],
      "metadata": {
        "colab": {
          "base_uri": "https://localhost:8080/",
          "height": 143
        },
        "id": "eo9UtJdvXiN6",
        "outputId": "cfc7f84e-82b3-437b-fe33-682edf5f2c8d"
      },
      "execution_count": 8,
      "outputs": [
        {
          "output_type": "execute_result",
          "data": {
            "text/plain": [
              "      James      John  Mary        TV      also       and  football     games  \\\n",
              "0  0.000000  1.405465   1.0  0.000000  0.000000  1.405465  0.000000  0.000000   \n",
              "1  1.405465  0.000000   0.0  1.405465  0.000000  0.000000  0.000000  0.000000   \n",
              "2  0.000000  0.000000   1.0  0.000000  1.405465  0.000000  1.405465  1.405465   \n",
              "\n",
              "      likes   movies        to       too     watch  \n",
              "0  1.424636  2.81093  1.424636  1.405465  0.712318  \n",
              "1  0.712318  0.00000  0.712318  0.000000  0.712318  \n",
              "2  0.712318  0.00000  0.712318  0.000000  0.712318  "
            ],
            "text/html": [
              "\n",
              "  <div id=\"df-77bd746c-efee-488c-8fd3-c508f47751ba\" class=\"colab-df-container\">\n",
              "    <div>\n",
              "<style scoped>\n",
              "    .dataframe tbody tr th:only-of-type {\n",
              "        vertical-align: middle;\n",
              "    }\n",
              "\n",
              "    .dataframe tbody tr th {\n",
              "        vertical-align: top;\n",
              "    }\n",
              "\n",
              "    .dataframe thead th {\n",
              "        text-align: right;\n",
              "    }\n",
              "</style>\n",
              "<table border=\"1\" class=\"dataframe\">\n",
              "  <thead>\n",
              "    <tr style=\"text-align: right;\">\n",
              "      <th></th>\n",
              "      <th>James</th>\n",
              "      <th>John</th>\n",
              "      <th>Mary</th>\n",
              "      <th>TV</th>\n",
              "      <th>also</th>\n",
              "      <th>and</th>\n",
              "      <th>football</th>\n",
              "      <th>games</th>\n",
              "      <th>likes</th>\n",
              "      <th>movies</th>\n",
              "      <th>to</th>\n",
              "      <th>too</th>\n",
              "      <th>watch</th>\n",
              "    </tr>\n",
              "  </thead>\n",
              "  <tbody>\n",
              "    <tr>\n",
              "      <th>0</th>\n",
              "      <td>0.000000</td>\n",
              "      <td>1.405465</td>\n",
              "      <td>1.0</td>\n",
              "      <td>0.000000</td>\n",
              "      <td>0.000000</td>\n",
              "      <td>1.405465</td>\n",
              "      <td>0.000000</td>\n",
              "      <td>0.000000</td>\n",
              "      <td>1.424636</td>\n",
              "      <td>2.81093</td>\n",
              "      <td>1.424636</td>\n",
              "      <td>1.405465</td>\n",
              "      <td>0.712318</td>\n",
              "    </tr>\n",
              "    <tr>\n",
              "      <th>1</th>\n",
              "      <td>1.405465</td>\n",
              "      <td>0.000000</td>\n",
              "      <td>0.0</td>\n",
              "      <td>1.405465</td>\n",
              "      <td>0.000000</td>\n",
              "      <td>0.000000</td>\n",
              "      <td>0.000000</td>\n",
              "      <td>0.000000</td>\n",
              "      <td>0.712318</td>\n",
              "      <td>0.00000</td>\n",
              "      <td>0.712318</td>\n",
              "      <td>0.000000</td>\n",
              "      <td>0.712318</td>\n",
              "    </tr>\n",
              "    <tr>\n",
              "      <th>2</th>\n",
              "      <td>0.000000</td>\n",
              "      <td>0.000000</td>\n",
              "      <td>1.0</td>\n",
              "      <td>0.000000</td>\n",
              "      <td>1.405465</td>\n",
              "      <td>0.000000</td>\n",
              "      <td>1.405465</td>\n",
              "      <td>1.405465</td>\n",
              "      <td>0.712318</td>\n",
              "      <td>0.00000</td>\n",
              "      <td>0.712318</td>\n",
              "      <td>0.000000</td>\n",
              "      <td>0.712318</td>\n",
              "    </tr>\n",
              "  </tbody>\n",
              "</table>\n",
              "</div>\n",
              "    <div class=\"colab-df-buttons\">\n",
              "\n",
              "  <div class=\"colab-df-container\">\n",
              "    <button class=\"colab-df-convert\" onclick=\"convertToInteractive('df-77bd746c-efee-488c-8fd3-c508f47751ba')\"\n",
              "            title=\"Convert this dataframe to an interactive table.\"\n",
              "            style=\"display:none;\">\n",
              "\n",
              "  <svg xmlns=\"http://www.w3.org/2000/svg\" height=\"24px\" viewBox=\"0 -960 960 960\">\n",
              "    <path d=\"M120-120v-720h720v720H120Zm60-500h600v-160H180v160Zm220 220h160v-160H400v160Zm0 220h160v-160H400v160ZM180-400h160v-160H180v160Zm440 0h160v-160H620v160ZM180-180h160v-160H180v160Zm440 0h160v-160H620v160Z\"/>\n",
              "  </svg>\n",
              "    </button>\n",
              "\n",
              "  <style>\n",
              "    .colab-df-container {\n",
              "      display:flex;\n",
              "      gap: 12px;\n",
              "    }\n",
              "\n",
              "    .colab-df-convert {\n",
              "      background-color: #E8F0FE;\n",
              "      border: none;\n",
              "      border-radius: 50%;\n",
              "      cursor: pointer;\n",
              "      display: none;\n",
              "      fill: #1967D2;\n",
              "      height: 32px;\n",
              "      padding: 0 0 0 0;\n",
              "      width: 32px;\n",
              "    }\n",
              "\n",
              "    .colab-df-convert:hover {\n",
              "      background-color: #E2EBFA;\n",
              "      box-shadow: 0px 1px 2px rgba(60, 64, 67, 0.3), 0px 1px 3px 1px rgba(60, 64, 67, 0.15);\n",
              "      fill: #174EA6;\n",
              "    }\n",
              "\n",
              "    .colab-df-buttons div {\n",
              "      margin-bottom: 4px;\n",
              "    }\n",
              "\n",
              "    [theme=dark] .colab-df-convert {\n",
              "      background-color: #3B4455;\n",
              "      fill: #D2E3FC;\n",
              "    }\n",
              "\n",
              "    [theme=dark] .colab-df-convert:hover {\n",
              "      background-color: #434B5C;\n",
              "      box-shadow: 0px 1px 3px 1px rgba(0, 0, 0, 0.15);\n",
              "      filter: drop-shadow(0px 1px 2px rgba(0, 0, 0, 0.3));\n",
              "      fill: #FFFFFF;\n",
              "    }\n",
              "  </style>\n",
              "\n",
              "    <script>\n",
              "      const buttonEl =\n",
              "        document.querySelector('#df-77bd746c-efee-488c-8fd3-c508f47751ba button.colab-df-convert');\n",
              "      buttonEl.style.display =\n",
              "        google.colab.kernel.accessAllowed ? 'block' : 'none';\n",
              "\n",
              "      async function convertToInteractive(key) {\n",
              "        const element = document.querySelector('#df-77bd746c-efee-488c-8fd3-c508f47751ba');\n",
              "        const dataTable =\n",
              "          await google.colab.kernel.invokeFunction('convertToInteractive',\n",
              "                                                    [key], {});\n",
              "        if (!dataTable) return;\n",
              "\n",
              "        const docLinkHtml = 'Like what you see? Visit the ' +\n",
              "          '<a target=\"_blank\" href=https://colab.research.google.com/notebooks/data_table.ipynb>data table notebook</a>'\n",
              "          + ' to learn more about interactive tables.';\n",
              "        element.innerHTML = '';\n",
              "        dataTable['output_type'] = 'display_data';\n",
              "        await google.colab.output.renderOutput(dataTable, element);\n",
              "        const docLink = document.createElement('div');\n",
              "        docLink.innerHTML = docLinkHtml;\n",
              "        element.appendChild(docLink);\n",
              "      }\n",
              "    </script>\n",
              "  </div>\n",
              "\n",
              "\n",
              "<div id=\"df-57707df0-d5c0-493f-9035-175a92b4c4f6\">\n",
              "  <button class=\"colab-df-quickchart\" onclick=\"quickchart('df-57707df0-d5c0-493f-9035-175a92b4c4f6')\"\n",
              "            title=\"Suggest charts.\"\n",
              "            style=\"display:none;\">\n",
              "\n",
              "<svg xmlns=\"http://www.w3.org/2000/svg\" height=\"24px\"viewBox=\"0 0 24 24\"\n",
              "     width=\"24px\">\n",
              "    <g>\n",
              "        <path d=\"M19 3H5c-1.1 0-2 .9-2 2v14c0 1.1.9 2 2 2h14c1.1 0 2-.9 2-2V5c0-1.1-.9-2-2-2zM9 17H7v-7h2v7zm4 0h-2V7h2v10zm4 0h-2v-4h2v4z\"/>\n",
              "    </g>\n",
              "</svg>\n",
              "  </button>\n",
              "\n",
              "<style>\n",
              "  .colab-df-quickchart {\n",
              "    background-color: #E8F0FE;\n",
              "    border: none;\n",
              "    border-radius: 50%;\n",
              "    cursor: pointer;\n",
              "    display: none;\n",
              "    fill: #1967D2;\n",
              "    height: 32px;\n",
              "    padding: 0 0 0 0;\n",
              "    width: 32px;\n",
              "  }\n",
              "\n",
              "  .colab-df-quickchart:hover {\n",
              "    background-color: #E2EBFA;\n",
              "    box-shadow: 0px 1px 2px rgba(60, 64, 67, 0.3), 0px 1px 3px 1px rgba(60, 64, 67, 0.15);\n",
              "    fill: #174EA6;\n",
              "  }\n",
              "\n",
              "  [theme=dark] .colab-df-quickchart {\n",
              "    background-color: #3B4455;\n",
              "    fill: #D2E3FC;\n",
              "  }\n",
              "\n",
              "  [theme=dark] .colab-df-quickchart:hover {\n",
              "    background-color: #434B5C;\n",
              "    box-shadow: 0px 1px 3px 1px rgba(0, 0, 0, 0.15);\n",
              "    filter: drop-shadow(0px 1px 2px rgba(0, 0, 0, 0.3));\n",
              "    fill: #FFFFFF;\n",
              "  }\n",
              "</style>\n",
              "\n",
              "  <script>\n",
              "    async function quickchart(key) {\n",
              "      const charts = await google.colab.kernel.invokeFunction(\n",
              "          'suggestCharts', [key], {});\n",
              "    }\n",
              "    (() => {\n",
              "      let quickchartButtonEl =\n",
              "        document.querySelector('#df-57707df0-d5c0-493f-9035-175a92b4c4f6 button');\n",
              "      quickchartButtonEl.style.display =\n",
              "        google.colab.kernel.accessAllowed ? 'block' : 'none';\n",
              "    })();\n",
              "  </script>\n",
              "</div>\n",
              "    </div>\n",
              "  </div>\n"
            ]
          },
          "metadata": {},
          "execution_count": 8
        }
      ]
    },
    {
      "cell_type": "markdown",
      "source": [
        "## scikit-learn TFidVectorizer 활용해서 TF-IDF 로 벡터화하기"
      ],
      "metadata": {
        "id": "41AuB7TQXlbW"
      }
    },
    {
      "cell_type": "markdown",
      "source": [
        "사이킷런으로 DTM을 만들기 위해서는 CountVectorizer를 사용했었습니다. 이와 유사하게 사이킷런에서는 TF-IDF를 자동으로 계산하여 출력하는 TfidfVectorizer를 제공합니다.\n",
        "\n",
        "향후 실습 중에 결괏값이 예상과 달라 혼란이 일어나는 일이 없도록 미리 언급하자면, 사이킷런의 TfidfVectorizer 또한 이번에 배운 기본식에서 조정된 식을 사용합니다. 간단히 언급하면, TfidfVectorizer는 위에서 우리가 파이썬으로 구현한 식에서 더 나아가 log 항의 분자에도 1을 더해주며, TF-IDF의 결과에 L2 Norm까지 추가로 수행한다는 점이 다릅니다.\n",
        "\n",
        "사이킷런의 TfidfVectorizer를 통해 TF-IDF 행렬을 출력해봅시다."
      ],
      "metadata": {
        "id": "VuM3pc75XuQJ"
      }
    },
    {
      "cell_type": "code",
      "source": [
        "from sklearn.feature_extraction.text import TfidfVectorizer\n",
        "\n",
        "corpus = [\n",
        "  'John likes to watch movies and Mary likes movies too',\n",
        "  'James likes to watch TV',\n",
        "  'Mary also likes to watch football games',\n",
        "]\n",
        "\n",
        "tfidfv = TfidfVectorizer().fit(corpus)\n",
        "vocab = list(tfidfv.vocabulary_.keys()) # 단어장을 리스트로 저장\n",
        "vocab.sort() # 단어장을 알파벳 순으로 정렬\n",
        "\n",
        "# TF-IDF 행렬에 단어장을 데이터프레임의 열로 지정하여 데이터프레임 생성\n",
        "tfidf_ = pd.DataFrame(tfidfv.transform(corpus).toarray(), columns = vocab)\n",
        "tfidf_"
      ],
      "metadata": {
        "colab": {
          "base_uri": "https://localhost:8080/",
          "height": 143
        },
        "id": "7VOFtlrfXqUA",
        "outputId": "9fb5bcfe-dde1-4bc5-e184-65fe71d6330f"
      },
      "execution_count": 9,
      "outputs": [
        {
          "output_type": "execute_result",
          "data": {
            "text/plain": [
              "       also       and  football     games     james      john     likes  \\\n",
              "0  0.000000  0.321556  0.000000  0.000000  0.000000  0.321556  0.379832   \n",
              "1  0.000000  0.000000  0.000000  0.000000  0.572929  0.000000  0.338381   \n",
              "2  0.464997  0.000000  0.464997  0.464997  0.000000  0.000000  0.274634   \n",
              "\n",
              "       mary    movies        to       too        tv     watch  \n",
              "0  0.244551  0.643111  0.189916  0.321556  0.000000  0.189916  \n",
              "1  0.000000  0.000000  0.338381  0.000000  0.572929  0.338381  \n",
              "2  0.353642  0.000000  0.274634  0.000000  0.000000  0.274634  "
            ],
            "text/html": [
              "\n",
              "  <div id=\"df-c973b760-f068-412c-a596-e375d2ac1cc3\" class=\"colab-df-container\">\n",
              "    <div>\n",
              "<style scoped>\n",
              "    .dataframe tbody tr th:only-of-type {\n",
              "        vertical-align: middle;\n",
              "    }\n",
              "\n",
              "    .dataframe tbody tr th {\n",
              "        vertical-align: top;\n",
              "    }\n",
              "\n",
              "    .dataframe thead th {\n",
              "        text-align: right;\n",
              "    }\n",
              "</style>\n",
              "<table border=\"1\" class=\"dataframe\">\n",
              "  <thead>\n",
              "    <tr style=\"text-align: right;\">\n",
              "      <th></th>\n",
              "      <th>also</th>\n",
              "      <th>and</th>\n",
              "      <th>football</th>\n",
              "      <th>games</th>\n",
              "      <th>james</th>\n",
              "      <th>john</th>\n",
              "      <th>likes</th>\n",
              "      <th>mary</th>\n",
              "      <th>movies</th>\n",
              "      <th>to</th>\n",
              "      <th>too</th>\n",
              "      <th>tv</th>\n",
              "      <th>watch</th>\n",
              "    </tr>\n",
              "  </thead>\n",
              "  <tbody>\n",
              "    <tr>\n",
              "      <th>0</th>\n",
              "      <td>0.000000</td>\n",
              "      <td>0.321556</td>\n",
              "      <td>0.000000</td>\n",
              "      <td>0.000000</td>\n",
              "      <td>0.000000</td>\n",
              "      <td>0.321556</td>\n",
              "      <td>0.379832</td>\n",
              "      <td>0.244551</td>\n",
              "      <td>0.643111</td>\n",
              "      <td>0.189916</td>\n",
              "      <td>0.321556</td>\n",
              "      <td>0.000000</td>\n",
              "      <td>0.189916</td>\n",
              "    </tr>\n",
              "    <tr>\n",
              "      <th>1</th>\n",
              "      <td>0.000000</td>\n",
              "      <td>0.000000</td>\n",
              "      <td>0.000000</td>\n",
              "      <td>0.000000</td>\n",
              "      <td>0.572929</td>\n",
              "      <td>0.000000</td>\n",
              "      <td>0.338381</td>\n",
              "      <td>0.000000</td>\n",
              "      <td>0.000000</td>\n",
              "      <td>0.338381</td>\n",
              "      <td>0.000000</td>\n",
              "      <td>0.572929</td>\n",
              "      <td>0.338381</td>\n",
              "    </tr>\n",
              "    <tr>\n",
              "      <th>2</th>\n",
              "      <td>0.464997</td>\n",
              "      <td>0.000000</td>\n",
              "      <td>0.464997</td>\n",
              "      <td>0.464997</td>\n",
              "      <td>0.000000</td>\n",
              "      <td>0.000000</td>\n",
              "      <td>0.274634</td>\n",
              "      <td>0.353642</td>\n",
              "      <td>0.000000</td>\n",
              "      <td>0.274634</td>\n",
              "      <td>0.000000</td>\n",
              "      <td>0.000000</td>\n",
              "      <td>0.274634</td>\n",
              "    </tr>\n",
              "  </tbody>\n",
              "</table>\n",
              "</div>\n",
              "    <div class=\"colab-df-buttons\">\n",
              "\n",
              "  <div class=\"colab-df-container\">\n",
              "    <button class=\"colab-df-convert\" onclick=\"convertToInteractive('df-c973b760-f068-412c-a596-e375d2ac1cc3')\"\n",
              "            title=\"Convert this dataframe to an interactive table.\"\n",
              "            style=\"display:none;\">\n",
              "\n",
              "  <svg xmlns=\"http://www.w3.org/2000/svg\" height=\"24px\" viewBox=\"0 -960 960 960\">\n",
              "    <path d=\"M120-120v-720h720v720H120Zm60-500h600v-160H180v160Zm220 220h160v-160H400v160Zm0 220h160v-160H400v160ZM180-400h160v-160H180v160Zm440 0h160v-160H620v160ZM180-180h160v-160H180v160Zm440 0h160v-160H620v160Z\"/>\n",
              "  </svg>\n",
              "    </button>\n",
              "\n",
              "  <style>\n",
              "    .colab-df-container {\n",
              "      display:flex;\n",
              "      gap: 12px;\n",
              "    }\n",
              "\n",
              "    .colab-df-convert {\n",
              "      background-color: #E8F0FE;\n",
              "      border: none;\n",
              "      border-radius: 50%;\n",
              "      cursor: pointer;\n",
              "      display: none;\n",
              "      fill: #1967D2;\n",
              "      height: 32px;\n",
              "      padding: 0 0 0 0;\n",
              "      width: 32px;\n",
              "    }\n",
              "\n",
              "    .colab-df-convert:hover {\n",
              "      background-color: #E2EBFA;\n",
              "      box-shadow: 0px 1px 2px rgba(60, 64, 67, 0.3), 0px 1px 3px 1px rgba(60, 64, 67, 0.15);\n",
              "      fill: #174EA6;\n",
              "    }\n",
              "\n",
              "    .colab-df-buttons div {\n",
              "      margin-bottom: 4px;\n",
              "    }\n",
              "\n",
              "    [theme=dark] .colab-df-convert {\n",
              "      background-color: #3B4455;\n",
              "      fill: #D2E3FC;\n",
              "    }\n",
              "\n",
              "    [theme=dark] .colab-df-convert:hover {\n",
              "      background-color: #434B5C;\n",
              "      box-shadow: 0px 1px 3px 1px rgba(0, 0, 0, 0.15);\n",
              "      filter: drop-shadow(0px 1px 2px rgba(0, 0, 0, 0.3));\n",
              "      fill: #FFFFFF;\n",
              "    }\n",
              "  </style>\n",
              "\n",
              "    <script>\n",
              "      const buttonEl =\n",
              "        document.querySelector('#df-c973b760-f068-412c-a596-e375d2ac1cc3 button.colab-df-convert');\n",
              "      buttonEl.style.display =\n",
              "        google.colab.kernel.accessAllowed ? 'block' : 'none';\n",
              "\n",
              "      async function convertToInteractive(key) {\n",
              "        const element = document.querySelector('#df-c973b760-f068-412c-a596-e375d2ac1cc3');\n",
              "        const dataTable =\n",
              "          await google.colab.kernel.invokeFunction('convertToInteractive',\n",
              "                                                    [key], {});\n",
              "        if (!dataTable) return;\n",
              "\n",
              "        const docLinkHtml = 'Like what you see? Visit the ' +\n",
              "          '<a target=\"_blank\" href=https://colab.research.google.com/notebooks/data_table.ipynb>data table notebook</a>'\n",
              "          + ' to learn more about interactive tables.';\n",
              "        element.innerHTML = '';\n",
              "        dataTable['output_type'] = 'display_data';\n",
              "        await google.colab.output.renderOutput(dataTable, element);\n",
              "        const docLink = document.createElement('div');\n",
              "        docLink.innerHTML = docLinkHtml;\n",
              "        element.appendChild(docLink);\n",
              "      }\n",
              "    </script>\n",
              "  </div>\n",
              "\n",
              "\n",
              "<div id=\"df-ca58110c-691b-4eea-a62c-96559253caf1\">\n",
              "  <button class=\"colab-df-quickchart\" onclick=\"quickchart('df-ca58110c-691b-4eea-a62c-96559253caf1')\"\n",
              "            title=\"Suggest charts.\"\n",
              "            style=\"display:none;\">\n",
              "\n",
              "<svg xmlns=\"http://www.w3.org/2000/svg\" height=\"24px\"viewBox=\"0 0 24 24\"\n",
              "     width=\"24px\">\n",
              "    <g>\n",
              "        <path d=\"M19 3H5c-1.1 0-2 .9-2 2v14c0 1.1.9 2 2 2h14c1.1 0 2-.9 2-2V5c0-1.1-.9-2-2-2zM9 17H7v-7h2v7zm4 0h-2V7h2v10zm4 0h-2v-4h2v4z\"/>\n",
              "    </g>\n",
              "</svg>\n",
              "  </button>\n",
              "\n",
              "<style>\n",
              "  .colab-df-quickchart {\n",
              "    background-color: #E8F0FE;\n",
              "    border: none;\n",
              "    border-radius: 50%;\n",
              "    cursor: pointer;\n",
              "    display: none;\n",
              "    fill: #1967D2;\n",
              "    height: 32px;\n",
              "    padding: 0 0 0 0;\n",
              "    width: 32px;\n",
              "  }\n",
              "\n",
              "  .colab-df-quickchart:hover {\n",
              "    background-color: #E2EBFA;\n",
              "    box-shadow: 0px 1px 2px rgba(60, 64, 67, 0.3), 0px 1px 3px 1px rgba(60, 64, 67, 0.15);\n",
              "    fill: #174EA6;\n",
              "  }\n",
              "\n",
              "  [theme=dark] .colab-df-quickchart {\n",
              "    background-color: #3B4455;\n",
              "    fill: #D2E3FC;\n",
              "  }\n",
              "\n",
              "  [theme=dark] .colab-df-quickchart:hover {\n",
              "    background-color: #434B5C;\n",
              "    box-shadow: 0px 1px 3px 1px rgba(0, 0, 0, 0.15);\n",
              "    filter: drop-shadow(0px 1px 2px rgba(0, 0, 0, 0.3));\n",
              "    fill: #FFFFFF;\n",
              "  }\n",
              "</style>\n",
              "\n",
              "  <script>\n",
              "    async function quickchart(key) {\n",
              "      const charts = await google.colab.kernel.invokeFunction(\n",
              "          'suggestCharts', [key], {});\n",
              "    }\n",
              "    (() => {\n",
              "      let quickchartButtonEl =\n",
              "        document.querySelector('#df-ca58110c-691b-4eea-a62c-96559253caf1 button');\n",
              "      quickchartButtonEl.style.display =\n",
              "        google.colab.kernel.accessAllowed ? 'block' : 'none';\n",
              "    })();\n",
              "  </script>\n",
              "</div>\n",
              "    </div>\n",
              "  </div>\n"
            ]
          },
          "metadata": {},
          "execution_count": 9
        }
      ]
    }
  ]
}